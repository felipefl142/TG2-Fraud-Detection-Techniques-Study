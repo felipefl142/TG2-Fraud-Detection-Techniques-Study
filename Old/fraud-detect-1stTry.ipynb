{
 "cells": [
  {
   "cell_type": "markdown",
   "metadata": {},
   "source": [
    "## Importando Bibliotecas e Setup"
   ]
  },
  {
   "cell_type": "code",
   "execution_count": 1,
   "metadata": {},
   "outputs": [
    {
     "data": {
      "text/html": [
       "<svg  width=\"440\" height=\"55\"><rect x=\"0\" y=\"0\" width=\"55\" height=\"55\" style=\"fill:#db5f57;stroke-width:2;stroke:rgb(255,255,255)\"/><rect x=\"55\" y=\"0\" width=\"55\" height=\"55\" style=\"fill:#dbc257;stroke-width:2;stroke:rgb(255,255,255)\"/><rect x=\"110\" y=\"0\" width=\"55\" height=\"55\" style=\"fill:#91db57;stroke-width:2;stroke:rgb(255,255,255)\"/><rect x=\"165\" y=\"0\" width=\"55\" height=\"55\" style=\"fill:#57db80;stroke-width:2;stroke:rgb(255,255,255)\"/><rect x=\"220\" y=\"0\" width=\"55\" height=\"55\" style=\"fill:#57d3db;stroke-width:2;stroke:rgb(255,255,255)\"/><rect x=\"275\" y=\"0\" width=\"55\" height=\"55\" style=\"fill:#5770db;stroke-width:2;stroke:rgb(255,255,255)\"/><rect x=\"330\" y=\"0\" width=\"55\" height=\"55\" style=\"fill:#a157db;stroke-width:2;stroke:rgb(255,255,255)\"/><rect x=\"385\" y=\"0\" width=\"55\" height=\"55\" style=\"fill:#db57b2;stroke-width:2;stroke:rgb(255,255,255)\"/></svg>"
      ],
      "text/plain": [
       "[(0.86, 0.3712, 0.33999999999999997),\n",
       " (0.86, 0.7612000000000001, 0.33999999999999997),\n",
       " (0.5688000000000001, 0.86, 0.33999999999999997),\n",
       " (0.33999999999999997, 0.86, 0.5012000000000001),\n",
       " (0.33999999999999997, 0.8287999999999999, 0.86),\n",
       " (0.33999999999999997, 0.43879999999999986, 0.86),\n",
       " (0.6311999999999998, 0.33999999999999997, 0.86),\n",
       " (0.86, 0.33999999999999997, 0.6987999999999996)]"
      ]
     },
     "execution_count": 1,
     "metadata": {},
     "output_type": "execute_result"
    }
   ],
   "source": [
    "import pandas as pd\n",
    "import numpy as np\n",
    "import matplotlib.pyplot as plt\n",
    "import seaborn as sns\n",
    "\n",
    "%matplotlib inline\n",
    "\n",
    "sns.set_theme(style='white')\n",
    "sns.color_palette('hls', 8)\n",
    "\n",
    "# import warnings\n",
    "# warnings.filterwarnings(\"ignore\", category=FutureWarning)"
   ]
  },
  {
   "cell_type": "markdown",
   "metadata": {},
   "source": [
    "## Carregando dados"
   ]
  },
  {
   "cell_type": "code",
   "execution_count": 2,
   "metadata": {},
   "outputs": [
    {
     "name": "stdout",
     "output_type": "stream",
     "text": [
      "<class 'pandas.core.frame.DataFrame'>\n",
      "RangeIndex: 6362620 entries, 0 to 6362619\n",
      "Data columns (total 11 columns):\n",
      " #   Column          Dtype  \n",
      "---  ------          -----  \n",
      " 0   step            int64  \n",
      " 1   type            object \n",
      " 2   amount          float64\n",
      " 3   nameOrig        object \n",
      " 4   oldbalanceOrg   float64\n",
      " 5   newbalanceOrig  float64\n",
      " 6   nameDest        object \n",
      " 7   oldbalanceDest  float64\n",
      " 8   newbalanceDest  float64\n",
      " 9   isFraud         int64  \n",
      " 10  isFlaggedFraud  int64  \n",
      "dtypes: float64(5), int64(3), object(3)\n",
      "memory usage: 534.0+ MB\n"
     ]
    }
   ],
   "source": [
    "fraud_df = pd.read_csv('Fraud.csv')\n",
    "fraud_df_orig = fraud_df.copy()\n",
    "\n",
    "fraud_df.info()"
   ]
  },
  {
   "cell_type": "code",
   "execution_count": 3,
   "metadata": {},
   "outputs": [
    {
     "data": {
      "text/html": [
       "<div>\n",
       "<style scoped>\n",
       "    .dataframe tbody tr th:only-of-type {\n",
       "        vertical-align: middle;\n",
       "    }\n",
       "\n",
       "    .dataframe tbody tr th {\n",
       "        vertical-align: top;\n",
       "    }\n",
       "\n",
       "    .dataframe thead th {\n",
       "        text-align: right;\n",
       "    }\n",
       "</style>\n",
       "<table border=\"1\" class=\"dataframe\">\n",
       "  <thead>\n",
       "    <tr style=\"text-align: right;\">\n",
       "      <th></th>\n",
       "      <th>step</th>\n",
       "      <th>type</th>\n",
       "      <th>amount</th>\n",
       "      <th>nameOrig</th>\n",
       "      <th>oldbalanceOrg</th>\n",
       "      <th>newbalanceOrig</th>\n",
       "      <th>nameDest</th>\n",
       "      <th>oldbalanceDest</th>\n",
       "      <th>newbalanceDest</th>\n",
       "      <th>isFraud</th>\n",
       "      <th>isFlaggedFraud</th>\n",
       "    </tr>\n",
       "  </thead>\n",
       "  <tbody>\n",
       "    <tr>\n",
       "      <th>0</th>\n",
       "      <td>1</td>\n",
       "      <td>PAYMENT</td>\n",
       "      <td>9839.64</td>\n",
       "      <td>C1231006815</td>\n",
       "      <td>170136.0</td>\n",
       "      <td>160296.36</td>\n",
       "      <td>M1979787155</td>\n",
       "      <td>0.0</td>\n",
       "      <td>0.0</td>\n",
       "      <td>0</td>\n",
       "      <td>0</td>\n",
       "    </tr>\n",
       "    <tr>\n",
       "      <th>1</th>\n",
       "      <td>1</td>\n",
       "      <td>PAYMENT</td>\n",
       "      <td>1864.28</td>\n",
       "      <td>C1666544295</td>\n",
       "      <td>21249.0</td>\n",
       "      <td>19384.72</td>\n",
       "      <td>M2044282225</td>\n",
       "      <td>0.0</td>\n",
       "      <td>0.0</td>\n",
       "      <td>0</td>\n",
       "      <td>0</td>\n",
       "    </tr>\n",
       "    <tr>\n",
       "      <th>2</th>\n",
       "      <td>1</td>\n",
       "      <td>TRANSFER</td>\n",
       "      <td>181.00</td>\n",
       "      <td>C1305486145</td>\n",
       "      <td>181.0</td>\n",
       "      <td>0.00</td>\n",
       "      <td>C553264065</td>\n",
       "      <td>0.0</td>\n",
       "      <td>0.0</td>\n",
       "      <td>1</td>\n",
       "      <td>0</td>\n",
       "    </tr>\n",
       "    <tr>\n",
       "      <th>3</th>\n",
       "      <td>1</td>\n",
       "      <td>CASH_OUT</td>\n",
       "      <td>181.00</td>\n",
       "      <td>C840083671</td>\n",
       "      <td>181.0</td>\n",
       "      <td>0.00</td>\n",
       "      <td>C38997010</td>\n",
       "      <td>21182.0</td>\n",
       "      <td>0.0</td>\n",
       "      <td>1</td>\n",
       "      <td>0</td>\n",
       "    </tr>\n",
       "    <tr>\n",
       "      <th>4</th>\n",
       "      <td>1</td>\n",
       "      <td>PAYMENT</td>\n",
       "      <td>11668.14</td>\n",
       "      <td>C2048537720</td>\n",
       "      <td>41554.0</td>\n",
       "      <td>29885.86</td>\n",
       "      <td>M1230701703</td>\n",
       "      <td>0.0</td>\n",
       "      <td>0.0</td>\n",
       "      <td>0</td>\n",
       "      <td>0</td>\n",
       "    </tr>\n",
       "  </tbody>\n",
       "</table>\n",
       "</div>"
      ],
      "text/plain": [
       "   step      type    amount     nameOrig  oldbalanceOrg  newbalanceOrig  \\\n",
       "0     1   PAYMENT   9839.64  C1231006815       170136.0       160296.36   \n",
       "1     1   PAYMENT   1864.28  C1666544295        21249.0        19384.72   \n",
       "2     1  TRANSFER    181.00  C1305486145          181.0            0.00   \n",
       "3     1  CASH_OUT    181.00   C840083671          181.0            0.00   \n",
       "4     1   PAYMENT  11668.14  C2048537720        41554.0        29885.86   \n",
       "\n",
       "      nameDest  oldbalanceDest  newbalanceDest  isFraud  isFlaggedFraud  \n",
       "0  M1979787155             0.0             0.0        0               0  \n",
       "1  M2044282225             0.0             0.0        0               0  \n",
       "2   C553264065             0.0             0.0        1               0  \n",
       "3    C38997010         21182.0             0.0        1               0  \n",
       "4  M1230701703             0.0             0.0        0               0  "
      ]
     },
     "execution_count": 3,
     "metadata": {},
     "output_type": "execute_result"
    }
   ],
   "source": [
    "fraud_df.head()"
   ]
  },
  {
   "cell_type": "markdown",
   "metadata": {},
   "source": [
    "- Colunas:\n",
    "\n",
    "    step - maps a unit of time in the real world. In this case 1 step is 1 hour of time. Total steps 744 (30 days simulation).\n",
    "\n",
    "    type - CASH-IN, CASH-OUT, DEBIT, PAYMENT and TRANSFER.\n",
    "\n",
    "    amount -\n",
    "    amount of the transaction in local currency.\n",
    "\n",
    "    nameOrig - customer who started the transaction\n",
    "\n",
    "    oldbalanceOrg - initial balance before the transaction\n",
    "\n",
    "    newbalanceOrig - new balance after the transaction\n",
    "\n",
    "    nameDest - customer who is the recipient of the transaction\n",
    "\n",
    "    oldbalanceDest - initial balance recipient before the transaction. Note that there is not information for customers that start with M (Merchants).\n",
    "\n",
    "    newbalanceDest - new balance recipient after the transaction. Note that there is not information for customers that start with M (Merchants).\n",
    "\n",
    "    isFraud - This is the transactions made by the fraudulent agents inside the simulation. In this specific dataset the fraudulent behavior of the agents aims to profit by taking control or customers accounts and try to empty the funds by transferring to another account and then cashing out of the system.\n",
    "\n",
    "    isFlaggedFraud - The business model aims to control massive transfers from one account to another and flags illegal attempts. An illegal attempt in this dataset is an attempt to transfer more than 200.000 in a single transaction."
   ]
  },
  {
   "cell_type": "code",
   "execution_count": 4,
   "metadata": {},
   "outputs": [],
   "source": [
    "# Fazendo o dataset ser balanceado e menor\n",
    "\n",
    "frauds = fraud_df[fraud_df['isFraud'] == 1]\n",
    "legits = fraud_df[fraud_df['isFraud'] == 0]\n",
    "legits = legits.sample(n = len(frauds))\n",
    "df_reduced = pd.concat([frauds, legits], axis = 0)"
   ]
  },
  {
   "cell_type": "code",
   "execution_count": 5,
   "metadata": {},
   "outputs": [
    {
     "data": {
      "text/plain": [
       "0    0.5\n",
       "1    0.5\n",
       "Name: isFraud, dtype: float64"
      ]
     },
     "execution_count": 5,
     "metadata": {},
     "output_type": "execute_result"
    }
   ],
   "source": [
    "df_reduced.isFraud.value_counts(normalize = True)"
   ]
  },
  {
   "cell_type": "markdown",
   "metadata": {},
   "source": [
    "## EDA"
   ]
  },
  {
   "cell_type": "code",
   "execution_count": 6,
   "metadata": {},
   "outputs": [
    {
     "data": {
      "image/png": "[encoded data removed]",
      "text/plain": [
       "<Figure size 432x288 with 1 Axes>"
      ]
     },
     "metadata": {},
     "output_type": "display_data"
    }
   ],
   "source": [
    "plt.boxplot(df_reduced.amount);"
   ]
  },
  {
   "cell_type": "code",
   "execution_count": 7,
   "metadata": {},
   "outputs": [
    {
     "data": {
      "text/html": [
       "<div>\n",
       "<style scoped>\n",
       "    .dataframe tbody tr th:only-of-type {\n",
       "        vertical-align: middle;\n",
       "    }\n",
       "\n",
       "    .dataframe tbody tr th {\n",
       "        vertical-align: top;\n",
       "    }\n",
       "\n",
       "    .dataframe thead th {\n",
       "        text-align: right;\n",
       "    }\n",
       "</style>\n",
       "<table border=\"1\" class=\"dataframe\">\n",
       "  <thead>\n",
       "    <tr style=\"text-align: right;\">\n",
       "      <th></th>\n",
       "      <th>step</th>\n",
       "      <th>amount</th>\n",
       "      <th>oldbalanceOrg</th>\n",
       "      <th>newbalanceOrig</th>\n",
       "      <th>oldbalanceDest</th>\n",
       "      <th>newbalanceDest</th>\n",
       "      <th>isFraud</th>\n",
       "      <th>isFlaggedFraud</th>\n",
       "    </tr>\n",
       "  </thead>\n",
       "  <tbody>\n",
       "    <tr>\n",
       "      <th>count</th>\n",
       "      <td>16426.000000</td>\n",
       "      <td>1.642600e+04</td>\n",
       "      <td>1.642600e+04</td>\n",
       "      <td>1.642600e+04</td>\n",
       "      <td>1.642600e+04</td>\n",
       "      <td>1.642600e+04</td>\n",
       "      <td>16426.000000</td>\n",
       "      <td>16426.000000</td>\n",
       "    </tr>\n",
       "    <tr>\n",
       "      <th>mean</th>\n",
       "      <td>305.822659</td>\n",
       "      <td>8.246581e+05</td>\n",
       "      <td>1.242379e+06</td>\n",
       "      <td>5.248588e+05</td>\n",
       "      <td>8.240192e+05</td>\n",
       "      <td>1.253920e+06</td>\n",
       "      <td>0.500000</td>\n",
       "      <td>0.000974</td>\n",
       "    </tr>\n",
       "    <tr>\n",
       "      <th>std</th>\n",
       "      <td>193.305960</td>\n",
       "      <td>1.908085e+06</td>\n",
       "      <td>3.258644e+06</td>\n",
       "      <td>2.513400e+06</td>\n",
       "      <td>3.164520e+06</td>\n",
       "      <td>3.633951e+06</td>\n",
       "      <td>0.500015</td>\n",
       "      <td>0.031196</td>\n",
       "    </tr>\n",
       "    <tr>\n",
       "      <th>min</th>\n",
       "      <td>1.000000</td>\n",
       "      <td>0.000000e+00</td>\n",
       "      <td>0.000000e+00</td>\n",
       "      <td>0.000000e+00</td>\n",
       "      <td>0.000000e+00</td>\n",
       "      <td>0.000000e+00</td>\n",
       "      <td>0.000000</td>\n",
       "      <td>0.000000</td>\n",
       "    </tr>\n",
       "    <tr>\n",
       "      <th>25%</th>\n",
       "      <td>162.000000</td>\n",
       "      <td>3.637421e+04</td>\n",
       "      <td>1.052325e+04</td>\n",
       "      <td>0.000000e+00</td>\n",
       "      <td>0.000000e+00</td>\n",
       "      <td>0.000000e+00</td>\n",
       "      <td>0.000000</td>\n",
       "      <td>0.000000</td>\n",
       "    </tr>\n",
       "    <tr>\n",
       "      <th>50%</th>\n",
       "      <td>283.000000</td>\n",
       "      <td>1.696141e+05</td>\n",
       "      <td>1.191438e+05</td>\n",
       "      <td>0.000000e+00</td>\n",
       "      <td>0.000000e+00</td>\n",
       "      <td>1.259121e+05</td>\n",
       "      <td>0.500000</td>\n",
       "      <td>0.000000</td>\n",
       "    </tr>\n",
       "    <tr>\n",
       "      <th>75%</th>\n",
       "      <td>408.000000</td>\n",
       "      <td>5.396587e+05</td>\n",
       "      <td>7.903324e+05</td>\n",
       "      <td>0.000000e+00</td>\n",
       "      <td>5.125247e+05</td>\n",
       "      <td>1.090888e+06</td>\n",
       "      <td>1.000000</td>\n",
       "      <td>0.000000</td>\n",
       "    </tr>\n",
       "    <tr>\n",
       "      <th>max</th>\n",
       "      <td>743.000000</td>\n",
       "      <td>5.385105e+07</td>\n",
       "      <td>5.958504e+07</td>\n",
       "      <td>4.958504e+07</td>\n",
       "      <td>2.362305e+08</td>\n",
       "      <td>2.367265e+08</td>\n",
       "      <td>1.000000</td>\n",
       "      <td>1.000000</td>\n",
       "    </tr>\n",
       "  </tbody>\n",
       "</table>\n",
       "</div>"
      ],
      "text/plain": [
       "               step        amount  oldbalanceOrg  newbalanceOrig  \\\n",
       "count  16426.000000  1.642600e+04   1.642600e+04    1.642600e+04   \n",
       "mean     305.822659  8.246581e+05   1.242379e+06    5.248588e+05   \n",
       "std      193.305960  1.908085e+06   3.258644e+06    2.513400e+06   \n",
       "min        1.000000  0.000000e+00   0.000000e+00    0.000000e+00   \n",
       "25%      162.000000  3.637421e+04   1.052325e+04    0.000000e+00   \n",
       "50%      283.000000  1.696141e+05   1.191438e+05    0.000000e+00   \n",
       "75%      408.000000  5.396587e+05   7.903324e+05    0.000000e+00   \n",
       "max      743.000000  5.385105e+07   5.958504e+07    4.958504e+07   \n",
       "\n",
       "       oldbalanceDest  newbalanceDest       isFraud  isFlaggedFraud  \n",
       "count    1.642600e+04    1.642600e+04  16426.000000    16426.000000  \n",
       "mean     8.240192e+05    1.253920e+06      0.500000        0.000974  \n",
       "std      3.164520e+06    3.633951e+06      0.500015        0.031196  \n",
       "min      0.000000e+00    0.000000e+00      0.000000        0.000000  \n",
       "25%      0.000000e+00    0.000000e+00      0.000000        0.000000  \n",
       "50%      0.000000e+00    1.259121e+05      0.500000        0.000000  \n",
       "75%      5.125247e+05    1.090888e+06      1.000000        0.000000  \n",
       "max      2.362305e+08    2.367265e+08      1.000000        1.000000  "
      ]
     },
     "execution_count": 7,
     "metadata": {},
     "output_type": "execute_result"
    }
   ],
   "source": [
    "df_reduced.describe()"
   ]
  },
  {
   "cell_type": "code",
   "execution_count": 8,
   "metadata": {},
   "outputs": [
    {
     "data": {
      "image/png": "[encoded data removed]",
      "text/plain": [
       "<Figure size 432x288 with 1 Axes>"
      ]
     },
     "metadata": {},
     "output_type": "display_data"
    }
   ],
   "source": [
    "sample1 = df_reduced[df_reduced.amount < 5e5]\n",
    "\n",
    "plt.hist(sample1.amount, bins = 15);"
   ]
  },
  {
   "cell_type": "code",
   "execution_count": 9,
   "metadata": {},
   "outputs": [],
   "source": [
    "# from bokeh.plotting import figure, output_notebook, show, output_file\n",
    "# from bokeh.models import ColumnDataSource\n",
    "\n",
    "# p = figure(plot_width = 300, plot_height = 300, tools = \"pan,reset,save\")\n",
    "# source = ColumnDataSource(data = dict(x = sample1.amount, y = sample1.index))\n",
    "\n",
    "# p.circle(x='x', y = 'y', source=source, color = 'navy', alpha = 0.5)\n",
    "\n",
    "# output_notebook()\n",
    "# show(p)"
   ]
  },
  {
   "cell_type": "markdown",
   "metadata": {},
   "source": [
    "## Data Cleaning"
   ]
  },
  {
   "cell_type": "code",
   "execution_count": 10,
   "metadata": {},
   "outputs": [],
   "source": [
    "import datacleaner as dc"
   ]
  },
  {
   "cell_type": "markdown",
   "metadata": {},
   "source": [
    "## Modelagem"
   ]
  },
  {
   "cell_type": "code",
   "execution_count": 11,
   "metadata": {},
   "outputs": [],
   "source": [
    "#Imports de Modelagem (Normalização, Splits, Modelos, Validação)\n",
    "from sklearn.preprocessing import StandardScaler\n",
    "from sklearn.model_selection import train_test_split, cross_val_score\n",
    "from sklearn import metrics\n",
    "\n",
    "from sklearn.linear_model import LogisticRegression\n",
    "from sklearn.ensemble import RandomForestClassifier, IsolationForest\n",
    "import xgboost as xgb"
   ]
  },
  {
   "cell_type": "code",
   "execution_count": 12,
   "metadata": {},
   "outputs": [],
   "source": [
    "#Definição de Features e Target\n",
    "\n",
    "features = ['type', 'amount', 'oldbalanceOrg', 'newbalanceOrig', 'oldbalanceDest', 'newbalanceDest']\n",
    "numericals = ['amount', 'oldbalanceOrg', 'newbalanceOrig', 'oldbalanceDest', 'newbalanceDest']\n",
    "\n",
    "X = df_reduced[features]\n",
    "y = df_reduced['isFraud']"
   ]
  },
  {
   "cell_type": "code",
   "execution_count": 13,
   "metadata": {},
   "outputs": [],
   "source": [
    "#Splits e Normalização\n",
    "\n",
    "X_train, X_test, y_train, y_test = train_test_split(X, y, test_size = 0.3, stratify = y, random_state = 4)\n",
    "\n",
    "scaler = StandardScaler()\n",
    "\n",
    "X_train = scaler.fit_transform(X_train[numericals])\n",
    "X_test = scaler.transform(X_test[numericals])"
   ]
  },
  {
   "cell_type": "markdown",
   "metadata": {},
   "source": [
    "## Testando Modelos com cross_val_score"
   ]
  },
  {
   "cell_type": "code",
   "execution_count": 14,
   "metadata": {},
   "outputs": [],
   "source": [
    "# classificador_lgbm = lgb.LGBMClassifier(max_depth=3)\n",
    "\n",
    "# 100 * cross_val_score(classificador_lgbm, X_train, y_train).mean()"
   ]
  },
  {
   "cell_type": "code",
   "execution_count": 15,
   "metadata": {},
   "outputs": [
    {
     "data": {
      "text/plain": [
       "86.09320120279138"
      ]
     },
     "execution_count": 15,
     "metadata": {},
     "output_type": "execute_result"
    }
   ],
   "source": [
    "log_reg = LogisticRegression('l2', solver='lbfgs')\n",
    "\n",
    "100 * cross_val_score(log_reg, X_train, y_train).mean()"
   ]
  },
  {
   "cell_type": "markdown",
   "metadata": {},
   "source": [
    "## Treinamento (Matriz Confusão)"
   ]
  },
  {
   "cell_type": "code",
   "execution_count": 16,
   "metadata": {},
   "outputs": [
    {
     "data": {
      "text/plain": [
       "array([[2421,   43],\n",
       "       [ 640, 1824]], dtype=int64)"
      ]
     },
     "execution_count": 16,
     "metadata": {},
     "output_type": "execute_result"
    }
   ],
   "source": [
    "from sklearn.metrics import confusion_matrix, ConfusionMatrixDisplay\n",
    "\n",
    "results_log_reg = log_reg.fit(X_train, y_train)\n",
    "\n",
    "log_reg_pred = log_reg.predict(X_test)\n",
    "\n",
    "confusion_matrix(y_test, log_reg_pred)"
   ]
  },
  {
   "cell_type": "code",
   "execution_count": 17,
   "metadata": {},
   "outputs": [
    {
     "data": {
      "text/plain": [
       "(4928,)"
      ]
     },
     "execution_count": 17,
     "metadata": {},
     "output_type": "execute_result"
    }
   ],
   "source": [
    "log_reg_pred.shape"
   ]
  },
  {
   "cell_type": "code",
   "execution_count": 18,
   "metadata": {},
   "outputs": [
    {
     "name": "stdout",
     "output_type": "stream",
     "text": [
      "\n",
      "******** For i = 0.3 ******\n",
      "-> Acurácia: 0.8952922077922078\n",
      "-> Recall: 0.9460227272727273\n",
      "-> F1-Score: 0.9003476245654695\n",
      "-> Métrica Combinada: 0.9138875198768015\n",
      "[[2081  383]\n",
      " [ 133 2331]]\n",
      "\n",
      "******** For i = 0.4 ******\n",
      "-> Acurácia: 0.8950892857142857\n",
      "-> Recall: 0.8242694805194806\n",
      "-> F1-Score: 0.8870932518017034\n",
      "-> Métrica Combinada: 0.8688173393451567\n",
      "[[2380   84]\n",
      " [ 433 2031]]\n",
      "\n",
      "******** For i = 0.5 ******\n",
      "-> Acurácia: 0.8614042207792207\n",
      "-> Recall: 0.7402597402597403\n",
      "-> F1-Score: 0.8422996998383745\n",
      "-> Métrica Combinada: 0.8146545536257785\n",
      "[[2421   43]\n",
      " [ 640 1824]]\n",
      "\n",
      "******** For i = 0.505 ******\n",
      "-> Acurácia: 0.859375\n",
      "-> Recall: 0.7353896103896104\n",
      "-> F1-Score: 0.8394718554551772\n",
      "-> Métrica Combinada: 0.8114121552815959\n",
      "[[2423   41]\n",
      " [ 652 1812]]\n",
      "\n",
      "******** For i = 0.51 ******\n",
      "-> Acurácia: 0.8581574675324676\n",
      "-> Recall: 0.7321428571428571\n",
      "-> F1-Score: 0.8377060599024844\n",
      "-> Métrica Combinada: 0.8093354615259364\n",
      "[[2425   39]\n",
      " [ 660 1804]]\n",
      "\n",
      "******** For i = 0.55 ******\n",
      "-> Acurácia: 0.843547077922078\n",
      "-> Recall: 0.6984577922077922\n",
      "-> F1-Score: 0.8169950154284359\n",
      "-> Métrica Combinada: 0.7863332951861021\n",
      "[[2436   28]\n",
      " [ 743 1721]]\n",
      "\n",
      "******** For i = 0.7 ******\n",
      "-> Acurácia: 0.8076298701298701\n",
      "-> Recall: 0.6209415584415584\n",
      "-> F1-Score: 0.7634730538922154\n",
      "-> Métrica Combinada: 0.730681494154548\n",
      "[[2450   14]\n",
      " [ 934 1530]]\n",
      "\n",
      "******** For i = 0.9 ******\n",
      "-> Acurácia: 0.7471590909090909\n",
      "-> Recall: 0.494724025974026\n",
      "-> F1-Score: 0.6617806731813246\n",
      "-> Métrica Combinada: 0.6345545966881473\n",
      "[[2463    1]\n",
      " [1245 1219]]\n",
      "--------Melhor threshold log reg:  0.3\n"
     ]
    }
   ],
   "source": [
    "log_reg_metric_combo_dict = {}\n",
    "threshold_list = [.3, .4, .5, .505, .51, .55, .7, .9]\n",
    "pred_proba_df = pd.DataFrame(log_reg.predict_proba(X_test))\n",
    "\n",
    "\n",
    "for i in threshold_list:\n",
    "    print ('\\n******** For i = {} ******'.format(i))\n",
    "    \n",
    "    y_test_pred = pred_proba_df.applymap(lambda x: 1 if x > i else 0)\n",
    "    test_accuracy = metrics.accuracy_score(np.asmatrix(y_test).reshape(np.asmatrix(y_test).size,1),\n",
    "                                           np.asmatrix(y_test_pred.iloc[:,1]).reshape(np.asmatrix(y_test_pred.iloc[:,1]).size,1))\n",
    "    print('-> Acurácia: {}'.format(test_accuracy))\n",
    "    test_recall = metrics.recall_score(np.asmatrix(y_test).reshape(np.asmatrix(y_test).size,1),\n",
    "                                         np.asmatrix(y_test_pred.iloc[:,1]).reshape(np.asmatrix(y_test_pred.iloc[:,1]).size,1))\n",
    "    print('-> Recall: {}'.format(test_recall))\n",
    "    test_f1 = metrics.f1_score(np.asmatrix(y_test).reshape(np.asmatrix(y_test).size,1),\n",
    "                                         np.asmatrix(y_test_pred.iloc[:,1]).reshape(np.asmatrix(y_test_pred.iloc[:,1]).size,1), zero_division = 1)\n",
    "    print('-> F1-Score: {}'.format(test_f1))\n",
    "    \n",
    "    log_reg_metric_combo = (test_accuracy + test_recall + test_f1)/3\n",
    "    print(f'-> Métrica Combinada: {log_reg_metric_combo}')\n",
    "    \n",
    "    print(confusion_matrix(np.asmatrix(y_test).reshape(np.asmatrix(y_test).size,1),\n",
    "                           np.asmatrix(y_test_pred.iloc[:,1]).reshape(np.asmatrix(y_test_pred.iloc[:,1]).size,1)))\n",
    "    \n",
    "    log_reg_metric_combo_dict[i] = log_reg_metric_combo\n",
    "\n",
    "log_reg_best_thresh = max(log_reg_metric_combo_dict, key=log_reg_metric_combo_dict.get)  # Pegar o i com maior valor de combo de métricas (Acurácia, Recall e F1-Score)\n",
    "print('--------Melhor threshold log reg: ', log_reg_best_thresh)"
   ]
  },
  {
   "cell_type": "code",
   "execution_count": 19,
   "metadata": {},
   "outputs": [
    {
     "name": "stdout",
     "output_type": "stream",
     "text": [
      "              precision    recall  f1-score   support\n",
      "\n",
      "           0       0.94      0.84      0.89      2464\n",
      "           1       0.86      0.95      0.90      2464\n",
      "\n",
      "    accuracy                           0.90      4928\n",
      "   macro avg       0.90      0.90      0.90      4928\n",
      "weighted avg       0.90      0.90      0.90      4928\n",
      "\n"
     ]
    },
    {
     "data": {
      "image/png": "[encoded data removed]",
      "text/plain": [
       "<Figure size 432x288 with 2 Axes>"
      ]
     },
     "metadata": {},
     "output_type": "display_data"
    }
   ],
   "source": [
    "#Precisamos maximizar specificity já que não queremos número alto de Falsos Positivos, ou seja, casos em que o modelo diz que não é fraude, mas realmente é, pois isso faz passar despercebidas fraudes.\n",
    "#Treshold que leva a melhor accuracy score e a melhor specifiticity ao mesmo tempo é i = 0.001\n",
    "from sklearn.metrics import classification_report\n",
    "\n",
    "final_LR_pred = pred_proba_df.applymap(lambda x: 1 if x > log_reg_best_thresh else 0)\n",
    "\n",
    "print(classification_report(y_test, final_LR_pred.iloc[:,1]))\n",
    "\n",
    "lr_cm = ConfusionMatrixDisplay(confusion_matrix(np.asmatrix(y_test).reshape(np.asmatrix(y_test).size,1),\n",
    "                           np.asmatrix(final_LR_pred.iloc[:,1]).reshape(np.asmatrix(final_LR_pred.iloc[:,1]).size,1))).plot()"
   ]
  },
  {
   "cell_type": "markdown",
   "metadata": {},
   "source": [
    "### XGBoost Classifier"
   ]
  },
  {
   "cell_type": "code",
   "execution_count": 20,
   "metadata": {},
   "outputs": [],
   "source": [
    "#Fazer GridSearchCV para LightGBM\n",
    "xgbc = xgb.XGBClassifier(eval_metric = 'logloss', use_label_encoder = False)"
   ]
  },
  {
   "cell_type": "code",
   "execution_count": 21,
   "metadata": {},
   "outputs": [],
   "source": [
    "# lgbm_metric_combo_dict = {}\n",
    "# threshold_list = [.3, .4, .5, .505, .51, .55, .7, .9]\n",
    "\n",
    "# lgbm = lgb.LGBMClassifier()\n",
    "\n",
    "# for i in threshold_list:\n",
    "#     print ('\\n******** For i = {} ******'.format(i))\n",
    "    \n",
    "#     lgbm.fit(X_train, y_train)\n",
    "#     pred_proba_df = pd.DataFrame(lgbm.predict_proba(X_test))\n",
    "    \n",
    "#     y_test_pred = pred_proba_df.applymap(lambda x: 1 if x > i else 0)\n",
    "#     test_accuracy = metrics.accuracy_score(np.asmatrix(y_test).reshape(np.asmatrix(y_test).size,1),\n",
    "#                                            np.asmatrix(y_test_pred.iloc[:,1]).reshape(np.asmatrix(y_test_pred.iloc[:,1]).size,1))\n",
    "#     print('-> Acurácia: {}'.format(test_accuracy))\n",
    "#     test_recall = metrics.recall_score(np.asmatrix(y_test).reshape(np.asmatrix(y_test).size,1),\n",
    "#                                          np.asmatrix(y_test_pred.iloc[:,1]).reshape(np.asmatrix(y_test_pred.iloc[:,1]).size,1))\n",
    "#     print('-> Recall: {}'.format(test_recall))\n",
    "#     test_f1 = metrics.f1_score(np.asmatrix(y_test).reshape(np.asmatrix(y_test).size,1),\n",
    "#                                          np.asmatrix(y_test_pred.iloc[:,1]).reshape(np.asmatrix(y_test_pred.iloc[:,1]).size,1), zero_division = 1)\n",
    "#     print('-> F1-Score: {}'.format(test_f1))\n",
    "    \n",
    "#     log_reg_metric_combo = (test_accuracy + test_recall + test_f1)/3\n",
    "#     print(f'-> Métrica Combinada: {log_reg_metric_combo}')\n",
    "    \n",
    "#     print(confusion_matrix(np.asmatrix(y_test).reshape(np.asmatrix(y_test).size,1),\n",
    "#                            np.asmatrix(y_test_pred.iloc[:,1]).reshape(np.asmatrix(y_test_pred.iloc[:,1]).size,1)))\n",
    "    \n",
    "#     log_reg_metric_combo_dict[i] = log_reg_metric_combo\n",
    "\n",
    "# lgbm_best_thresh = max(log_reg_metric_combo_dict, key=log_reg_metric_combo_dict.get)  # Pegar o i com maior valor de combo de métricas (Acurácia, Recall e F1-Score)\n",
    "# lgbm_best_thresh"
   ]
  },
  {
   "cell_type": "code",
   "execution_count": 22,
   "metadata": {},
   "outputs": [],
   "source": [
    "from sklearn.model_selection import RandomizedSearchCV\n",
    "\n",
    "threshold_list = [.3, .4, .5, .5025, .505, .51, .55, .7]\n",
    "\n",
    "xgbc_param_dict = {'learning_rate': [0.1, 0.2, 0.3, 0.4, 0.7, 0.9],\n",
    "                #    'threshold': threshold_list,\n",
    "                   'max_depth': [3, 4, 5, 6, 7, 8],\n",
    "                   'max_leaves': [10, 30, 50, 70, 100],\n",
    "                   'n_estimators': [100, 300, 500, 700, 900]\n",
    "                   }\n",
    "\n",
    "gridsearch_xgbc = RandomizedSearchCV(xgbc,\n",
    "                                     param_distributions = xgbc_param_dict,\n",
    "                                     scoring = ['accuracy', 'recall'],\n",
    "                                     cv = 3,\n",
    "                                     refit = 'recall',\n",
    "                                     verbose = 1,\n",
    "                                     n_jobs = -1,\n",
    "                                     random_state = 42\n",
    "                                     )"
   ]
  },
  {
   "cell_type": "code",
   "execution_count": 23,
   "metadata": {},
   "outputs": [
    {
     "name": "stdout",
     "output_type": "stream",
     "text": [
      "Fitting 3 folds for each of 10 candidates, totalling 30 fits\n",
      "\n",
      "Melhores Parâmetros:  {'n_estimators': 500, 'max_leaves': 100, 'max_depth': 5, 'learning_rate': 0.1} \n",
      " Melhor Score:  0.9963474628538779 \n",
      "               precision    recall  f1-score   support\n",
      "\n",
      "           0       1.00      0.98      0.99      2464\n",
      "           1       0.98      1.00      0.99      2464\n",
      "\n",
      "    accuracy                           0.99      4928\n",
      "   macro avg       0.99      0.99      0.99      4928\n",
      "weighted avg       0.99      0.99      0.99      4928\n",
      "\n"
     ]
    },
    {
     "data": {
      "image/png": "[encoded data removed]",
      "text/plain": [
       "<Figure size 432x288 with 2 Axes>"
      ]
     },
     "metadata": {},
     "output_type": "display_data"
    }
   ],
   "source": [
    "gridsearch_xgbc.fit(X_train, y_train)\n",
    "\n",
    "print('\\nMelhores Parâmetros: ', gridsearch_xgbc.best_params_, '\\n Melhor Score: ', gridsearch_xgbc.best_score_, '\\n', classification_report(y_test, gridsearch_xgbc.predict(X_test)))\n",
    "xgbc_cm = ConfusionMatrixDisplay(confusion_matrix(y_test, gridsearch_xgbc.predict(X_test))).plot()"
   ]
  },
  {
   "cell_type": "code",
   "execution_count": null,
   "metadata": {},
   "outputs": [],
   "source": []
  }
 ],
 "metadata": {
  "kernelspec": {
   "display_name": "Python 3.8.13 ('dhdsblend2022_main')",
   "language": "python",
   "name": "python3"
  },
  "language_info": {
   "codemirror_mode": {
    "name": "ipython",
    "version": 3
   },
   "file_extension": ".py",
   "mimetype": "text/x-python",
   "name": "python",
   "nbconvert_exporter": "python",
   "pygments_lexer": "ipython3",
   "version": "3.8.13"
  },
  "orig_nbformat": 4,
  "vscode": {
   "interpreter": {
    "hash": "ec83e88ed8cedc03773fa1fb0e0d95e2e49f6d25892556d2f805fe0a6e2f7215"
   }
  }
 },
 "nbformat": 4,
 "nbformat_minor": 2
}
